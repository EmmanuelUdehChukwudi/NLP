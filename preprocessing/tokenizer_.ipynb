{
 "cells": [
  {
   "cell_type": "code",
   "execution_count": 1,
   "metadata": {},
   "outputs": [],
   "source": [
    "import nltk"
   ]
  },
  {
   "cell_type": "code",
   "execution_count": 1,
   "metadata": {},
   "outputs": [
    {
     "name": "stderr",
     "output_type": "stream",
     "text": [
      "/usr/lib/python3/dist-packages/scipy/__init__.py:146: UserWarning: A NumPy version >=1.17.3 and <1.25.0 is required for this version of SciPy (detected version 1.26.4\n",
      "  warnings.warn(f\"A NumPy version >={np_minversion} and <{np_maxversion}\"\n"
     ]
    }
   ],
   "source": [
    "import nltk\n",
    "print(nltk.data.path)\n"
   ]
  },
  {
   "cell_type": "code",
   "execution_count": 2,
   "metadata": {},
   "outputs": [
    {
     "name": "stderr",
     "output_type": "stream",
     "text": [
      "[nltk_data] Downloading package punkt_tab to\n",
      "[nltk_data]     /home/emmanuel/nltk_data...\n",
      "[nltk_data]   Unzipping tokenizers/punkt_tab.zip.\n"
     ]
    },
    {
     "data": {
      "text/plain": [
       "True"
      ]
     },
     "execution_count": 2,
     "metadata": {},
     "output_type": "execute_result"
    }
   ],
   "source": [
    "nltk.download('punkt_tab')\n",
    "# nltk.data.path.append('/home/emmanuel/nltk_data')\n",
    "# print(nltk.data.path)"
   ]
  },
  {
   "cell_type": "code",
   "execution_count": 2,
   "metadata": {},
   "outputs": [],
   "source": [
    "text = \"Machine Learning is a subset of artificial intelligence, and it does with learning from data without being explictly programmed\""
   ]
  },
  {
   "cell_type": "code",
   "execution_count": 3,
   "metadata": {},
   "outputs": [
    {
     "data": {
      "text/plain": [
       "['Machine',\n",
       " 'Learning',\n",
       " 'is',\n",
       " 'a',\n",
       " 'subset',\n",
       " 'of',\n",
       " 'artificial',\n",
       " 'intelligence',\n",
       " ',',\n",
       " 'and',\n",
       " 'it',\n",
       " 'does',\n",
       " 'with',\n",
       " 'learning',\n",
       " 'from',\n",
       " 'data',\n",
       " 'without',\n",
       " 'being',\n",
       " 'explictly',\n",
       " 'programmed']"
      ]
     },
     "execution_count": 3,
     "metadata": {},
     "output_type": "execute_result"
    }
   ],
   "source": [
    "tokens = nltk.word_tokenize(text)\n",
    "tokens"
   ]
  },
  {
   "cell_type": "code",
   "execution_count": null,
   "metadata": {},
   "outputs": [],
   "source": [
    "sen = nltk.wordpunct_tokenize(text)\n",
    "sen"
   ]
  },
  {
   "cell_type": "markdown",
   "metadata": {},
   "source": [
    "## Bigrams and Ngrams"
   ]
  },
  {
   "cell_type": "code",
   "execution_count": 7,
   "metadata": {},
   "outputs": [
    {
     "data": {
      "text/plain": [
       "[('Machine', 'Learning'),\n",
       " ('Learning', 'is'),\n",
       " ('is', 'a'),\n",
       " ('a', 'subset'),\n",
       " ('subset', 'of'),\n",
       " ('of', 'artificial'),\n",
       " ('artificial', 'intelligence'),\n",
       " ('intelligence', ','),\n",
       " (',', 'and'),\n",
       " ('and', 'it'),\n",
       " ('it', 'does'),\n",
       " ('does', 'with'),\n",
       " ('with', 'learning'),\n",
       " ('learning', 'from'),\n",
       " ('from', 'data'),\n",
       " ('data', 'without'),\n",
       " ('without', 'being'),\n",
       " ('being', 'explictly'),\n",
       " ('explictly', 'programmed')]"
      ]
     },
     "execution_count": 7,
     "metadata": {},
     "output_type": "execute_result"
    }
   ],
   "source": [
    "bigrams = nltk.bigrams(tokens)\n",
    "list(bigrams)"
   ]
  },
  {
   "cell_type": "code",
   "execution_count": 8,
   "metadata": {},
   "outputs": [
    {
     "data": {
      "text/plain": [
       "[('Machine', 'Learning', 'is'),\n",
       " ('Learning', 'is', 'a'),\n",
       " ('is', 'a', 'subset'),\n",
       " ('a', 'subset', 'of'),\n",
       " ('subset', 'of', 'artificial'),\n",
       " ('of', 'artificial', 'intelligence'),\n",
       " ('artificial', 'intelligence', ','),\n",
       " ('intelligence', ',', 'and'),\n",
       " (',', 'and', 'it'),\n",
       " ('and', 'it', 'does'),\n",
       " ('it', 'does', 'with'),\n",
       " ('does', 'with', 'learning'),\n",
       " ('with', 'learning', 'from'),\n",
       " ('learning', 'from', 'data'),\n",
       " ('from', 'data', 'without'),\n",
       " ('data', 'without', 'being'),\n",
       " ('without', 'being', 'explictly'),\n",
       " ('being', 'explictly', 'programmed')]"
      ]
     },
     "execution_count": 8,
     "metadata": {},
     "output_type": "execute_result"
    }
   ],
   "source": [
    "list(nltk.trigrams(tokens))"
   ]
  }
 ],
 "metadata": {
  "kernelspec": {
   "display_name": "ai_env",
   "language": "python",
   "name": "python3"
  },
  "language_info": {
   "codemirror_mode": {
    "name": "ipython",
    "version": 3
   },
   "file_extension": ".py",
   "mimetype": "text/x-python",
   "name": "python",
   "nbconvert_exporter": "python",
   "pygments_lexer": "ipython3",
   "version": "3.10.12"
  }
 },
 "nbformat": 4,
 "nbformat_minor": 2
}
