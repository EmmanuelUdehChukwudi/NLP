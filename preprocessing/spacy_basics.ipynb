{
 "cells": [
  {
   "cell_type": "code",
   "execution_count": 1,
   "metadata": {},
   "outputs": [],
   "source": [
    "import spacy"
   ]
  },
  {
   "cell_type": "code",
   "execution_count": 3,
   "metadata": {},
   "outputs": [],
   "source": [
    "nlp = spacy.load(\"en_core_web_sm\")"
   ]
  },
  {
   "cell_type": "code",
   "execution_count": 5,
   "metadata": {},
   "outputs": [],
   "source": [
    "text = \"This laz1y brown dog jumped over the wall of a building where a cat leaves\"\n",
    "\n",
    "doc = nlp(text)"
   ]
  },
  {
   "cell_type": "code",
   "execution_count": 8,
   "metadata": {},
   "outputs": [
    {
     "name": "stdout",
     "output_type": "stream",
     "text": [
      "This -- DET -- this -- DT\n",
      "laz1y -- ADJ -- laz1y -- JJ\n",
      "brown -- ADJ -- brown -- JJ\n",
      "dog -- NOUN -- dog -- NN\n",
      "jumped -- VERB -- jump -- VBD\n",
      "over -- ADP -- over -- IN\n",
      "the -- DET -- the -- DT\n",
      "wall -- NOUN -- wall -- NN\n",
      "of -- ADP -- of -- IN\n",
      "a -- DET -- a -- DT\n",
      "building -- NOUN -- building -- NN\n",
      "where -- SCONJ -- where -- WRB\n",
      "a -- DET -- a -- DT\n",
      "cat -- NOUN -- cat -- NN\n",
      "leaves -- VERB -- leave -- VBZ\n"
     ]
    }
   ],
   "source": [
    "for token in doc:\n",
    "    print(f\"{token} -- {token.pos_} -- {token.lemma_} -- {token.tag_}\")"
   ]
  },
  {
   "cell_type": "code",
   "execution_count": 9,
   "metadata": {},
   "outputs": [
    {
     "data": {
      "text/plain": [
       "'verb, 3rd person singular present'"
      ]
     },
     "execution_count": 9,
     "metadata": {},
     "output_type": "execute_result"
    }
   ],
   "source": [
    "spacy.explain(\"VBZ\")"
   ]
  }
 ],
 "metadata": {
  "kernelspec": {
   "display_name": "ai_env",
   "language": "python",
   "name": "python3"
  },
  "language_info": {
   "codemirror_mode": {
    "name": "ipython",
    "version": 3
   },
   "file_extension": ".py",
   "mimetype": "text/x-python",
   "name": "python",
   "nbconvert_exporter": "python",
   "pygments_lexer": "ipython3",
   "version": "3.10.12"
  }
 },
 "nbformat": 4,
 "nbformat_minor": 2
}
