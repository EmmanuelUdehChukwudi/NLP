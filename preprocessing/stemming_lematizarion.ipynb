{
 "cells": [
  {
   "cell_type": "code",
   "execution_count": 10,
   "metadata": {},
   "outputs": [],
   "source": [
    "import nltk\n",
    "from nltk.stem import PorterStemmer,SnowballStemmer,LancasterStemmer"
   ]
  },
  {
   "cell_type": "code",
   "execution_count": 5,
   "metadata": {},
   "outputs": [],
   "source": [
    "text = \"Machine Learning is a subset of artificial intelligence, and it does with learning from data without being explictly programmed\""
   ]
  },
  {
   "cell_type": "code",
   "execution_count": 4,
   "metadata": {},
   "outputs": [],
   "source": [
    "tokens = nltk.word_tokenize(text)"
   ]
  },
  {
   "cell_type": "markdown",
   "metadata": {},
   "source": [
    "### Stemming"
   ]
  },
  {
   "cell_type": "code",
   "execution_count": 6,
   "metadata": {},
   "outputs": [
    {
     "name": "stdout",
     "output_type": "stream",
     "text": [
      "Machine ---> machin\n",
      "Learning ---> learn\n",
      "is ---> is\n",
      "a ---> a\n",
      "subset ---> subset\n",
      "of ---> of\n",
      "artificial ---> artifici\n",
      "intelligence ---> intellig\n",
      ", ---> ,\n",
      "and ---> and\n",
      "it ---> it\n",
      "does ---> doe\n",
      "with ---> with\n",
      "learning ---> learn\n",
      "from ---> from\n",
      "data ---> data\n",
      "without ---> without\n",
      "being ---> be\n",
      "explictly ---> explictli\n",
      "programmed ---> program\n"
     ]
    }
   ],
   "source": [
    "stemmer = PorterStemmer()\n",
    "\n",
    "for token in tokens:\n",
    "    print(f\"{token} ---> {stemmer.stem(token)}\")"
   ]
  },
  {
   "cell_type": "code",
   "execution_count": 9,
   "metadata": {},
   "outputs": [
    {
     "name": "stdout",
     "output_type": "stream",
     "text": [
      "Machine ---> machin\n",
      "Learning ---> learn\n",
      "is ---> is\n",
      "a ---> a\n",
      "subset ---> subset\n",
      "of ---> of\n",
      "artificial ---> artifici\n",
      "intelligence ---> intellig\n",
      ", ---> ,\n",
      "and ---> and\n",
      "it ---> it\n",
      "does ---> doe\n",
      "with ---> with\n",
      "learning ---> learn\n",
      "from ---> from\n",
      "data ---> data\n",
      "without ---> without\n",
      "being ---> be\n",
      "explictly ---> explict\n",
      "programmed ---> program\n"
     ]
    }
   ],
   "source": [
    "stemmer = SnowballStemmer(language=\"english\")\n",
    "\n",
    "for token in tokens:\n",
    "    print(f\"{token} ---> {stemmer.stem(token)}\")"
   ]
  },
  {
   "cell_type": "code",
   "execution_count": 11,
   "metadata": {},
   "outputs": [
    {
     "name": "stdout",
     "output_type": "stream",
     "text": [
      "Machine ---> machin\n",
      "Learning ---> learn\n",
      "is ---> is\n",
      "a ---> a\n",
      "subset ---> subset\n",
      "of ---> of\n",
      "artificial ---> art\n",
      "intelligence ---> intellig\n",
      ", ---> ,\n",
      "and ---> and\n",
      "it ---> it\n",
      "does ---> doe\n",
      "with ---> with\n",
      "learning ---> learn\n",
      "from ---> from\n",
      "data ---> dat\n",
      "without ---> without\n",
      "being ---> being\n",
      "explictly ---> explict\n",
      "programmed ---> program\n"
     ]
    }
   ],
   "source": [
    "stemmer = LancasterStemmer()\n",
    "\n",
    "for token in tokens:\n",
    "    print(f\"{token} ---> {stemmer.stem(token)}\")"
   ]
  },
  {
   "cell_type": "markdown",
   "metadata": {},
   "source": [
    "### Lemmatization"
   ]
  },
  {
   "cell_type": "code",
   "execution_count": 15,
   "metadata": {},
   "outputs": [
    {
     "name": "stderr",
     "output_type": "stream",
     "text": [
      "[nltk_data] Downloading package omw-1.4 to /home/emmanuel/nltk_data...\n"
     ]
    },
    {
     "name": "stdout",
     "output_type": "stream",
     "text": [
      "Machine ---> Machine\n",
      "Learning ---> Learning\n",
      "is ---> is\n",
      "a ---> a\n",
      "subset ---> subset\n",
      "of ---> of\n",
      "artificial ---> artificial\n",
      "intelligence ---> intelligence\n",
      ", ---> ,\n",
      "and ---> and\n",
      "it ---> it\n",
      "does ---> doe\n",
      "with ---> with\n",
      "learning ---> learning\n",
      "from ---> from\n",
      "data ---> data\n",
      "without ---> without\n",
      "being ---> being\n",
      "explictly ---> explictly\n",
      "programmed ---> programmed\n"
     ]
    }
   ],
   "source": [
    "from nltk.stem import WordNetLemmatizer\n",
    "\n",
    "# nltk.download(\"wordnet\")\n",
    "# nltk.download(\"omw-1.4\")\n",
    "lemma = WordNetLemmatizer()\n",
    "for token in tokens:\n",
    "    print(f\"{token} ---> {lemma.lemmatize(token)}\")"
   ]
  }
 ],
 "metadata": {
  "kernelspec": {
   "display_name": "ai_env",
   "language": "python",
   "name": "python3"
  },
  "language_info": {
   "codemirror_mode": {
    "name": "ipython",
    "version": 3
   },
   "file_extension": ".py",
   "mimetype": "text/x-python",
   "name": "python",
   "nbconvert_exporter": "python",
   "pygments_lexer": "ipython3",
   "version": "3.10.12"
  }
 },
 "nbformat": 4,
 "nbformat_minor": 2
}
