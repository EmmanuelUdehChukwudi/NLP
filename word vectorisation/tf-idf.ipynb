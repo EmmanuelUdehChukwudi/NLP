{
 "cells": [
  {
   "cell_type": "code",
   "execution_count": 1,
   "metadata": {},
   "outputs": [],
   "source": [
    "from sklearn.feature_extraction.text import TfidfVectorizer\n",
    "import pandas as pd\n",
    "import math"
   ]
  },
  {
   "cell_type": "code",
   "execution_count": 2,
   "metadata": {},
   "outputs": [],
   "source": [
    "sen1 = \"Data Science is an amazing career in the current world\"\n",
    "sen2 = \"Deep learning is a subset of machine learning\"\n",
    "\n",
    "### Tokenize\n",
    "sen1 = sen1.split(\" \")\n",
    "sen2 = sen2.split(\" \")\n",
    "vocab = set(sen1).union(set(sen2))\n",
    "# vocab = set(sen1+sen2)"
   ]
  },
  {
   "cell_type": "code",
   "execution_count": 3,
   "metadata": {},
   "outputs": [
    {
     "data": {
      "text/plain": [
       "{'Data',\n",
       " 'Deep',\n",
       " 'Science',\n",
       " 'a',\n",
       " 'amazing',\n",
       " 'an',\n",
       " 'career',\n",
       " 'current',\n",
       " 'in',\n",
       " 'is',\n",
       " 'learning',\n",
       " 'machine',\n",
       " 'of',\n",
       " 'subset',\n",
       " 'the',\n",
       " 'world'}"
      ]
     },
     "execution_count": 3,
     "metadata": {},
     "output_type": "execute_result"
    }
   ],
   "source": [
    "vocab"
   ]
  },
  {
   "cell_type": "markdown",
   "metadata": {},
   "source": [
    "### Create count dictionary of Unique words"
   ]
  },
  {
   "cell_type": "code",
   "execution_count": 4,
   "metadata": {},
   "outputs": [],
   "source": [
    "wordDict1 = dict.fromkeys(vocab,0)\n",
    "wordDict2 = dict.fromkeys(vocab,0)"
   ]
  },
  {
   "cell_type": "code",
   "execution_count": 5,
   "metadata": {},
   "outputs": [
    {
     "data": {
      "text/plain": [
       "{'in': 1,\n",
       " 'machine': 0,\n",
       " 'the': 1,\n",
       " 'an': 1,\n",
       " 'amazing': 1,\n",
       " 'Data': 1,\n",
       " 'of': 0,\n",
       " 'subset': 0,\n",
       " 'learning': 0,\n",
       " 'current': 1,\n",
       " 'world': 1,\n",
       " 'Science': 1,\n",
       " 'a': 0,\n",
       " 'is': 1,\n",
       " 'Deep': 0,\n",
       " 'career': 1}"
      ]
     },
     "execution_count": 5,
     "metadata": {},
     "output_type": "execute_result"
    }
   ],
   "source": [
    "for word in sen1:\n",
    "    wordDict1[word] +=1\n",
    "    \n",
    "for word in sen2:\n",
    "    wordDict2[word] +=1\n",
    "    \n",
    "wordDict1"
   ]
  },
  {
   "cell_type": "code",
   "execution_count": 6,
   "metadata": {},
   "outputs": [
    {
     "data": {
      "text/plain": [
       "{'in': 0,\n",
       " 'machine': 1,\n",
       " 'the': 0,\n",
       " 'an': 0,\n",
       " 'amazing': 0,\n",
       " 'Data': 0,\n",
       " 'of': 1,\n",
       " 'subset': 1,\n",
       " 'learning': 2,\n",
       " 'current': 0,\n",
       " 'world': 0,\n",
       " 'Science': 0,\n",
       " 'a': 1,\n",
       " 'is': 1,\n",
       " 'Deep': 1,\n",
       " 'career': 0}"
      ]
     },
     "execution_count": 6,
     "metadata": {},
     "output_type": "execute_result"
    }
   ],
   "source": [
    "wordDict2"
   ]
  },
  {
   "cell_type": "code",
   "execution_count": 8,
   "metadata": {},
   "outputs": [
    {
     "data": {
      "text/html": [
       "<div>\n",
       "<style scoped>\n",
       "    .dataframe tbody tr th:only-of-type {\n",
       "        vertical-align: middle;\n",
       "    }\n",
       "\n",
       "    .dataframe tbody tr th {\n",
       "        vertical-align: top;\n",
       "    }\n",
       "\n",
       "    .dataframe thead th {\n",
       "        text-align: right;\n",
       "    }\n",
       "</style>\n",
       "<table border=\"1\" class=\"dataframe\">\n",
       "  <thead>\n",
       "    <tr style=\"text-align: right;\">\n",
       "      <th></th>\n",
       "      <th>in</th>\n",
       "      <th>machine</th>\n",
       "      <th>the</th>\n",
       "      <th>an</th>\n",
       "      <th>amazing</th>\n",
       "      <th>Data</th>\n",
       "      <th>of</th>\n",
       "      <th>subset</th>\n",
       "      <th>learning</th>\n",
       "      <th>current</th>\n",
       "      <th>world</th>\n",
       "      <th>Science</th>\n",
       "      <th>a</th>\n",
       "      <th>is</th>\n",
       "      <th>Deep</th>\n",
       "      <th>career</th>\n",
       "    </tr>\n",
       "  </thead>\n",
       "  <tbody>\n",
       "    <tr>\n",
       "      <th>0</th>\n",
       "      <td>1</td>\n",
       "      <td>0</td>\n",
       "      <td>1</td>\n",
       "      <td>1</td>\n",
       "      <td>1</td>\n",
       "      <td>1</td>\n",
       "      <td>0</td>\n",
       "      <td>0</td>\n",
       "      <td>0</td>\n",
       "      <td>1</td>\n",
       "      <td>1</td>\n",
       "      <td>1</td>\n",
       "      <td>0</td>\n",
       "      <td>1</td>\n",
       "      <td>0</td>\n",
       "      <td>1</td>\n",
       "    </tr>\n",
       "    <tr>\n",
       "      <th>1</th>\n",
       "      <td>0</td>\n",
       "      <td>1</td>\n",
       "      <td>0</td>\n",
       "      <td>0</td>\n",
       "      <td>0</td>\n",
       "      <td>0</td>\n",
       "      <td>1</td>\n",
       "      <td>1</td>\n",
       "      <td>2</td>\n",
       "      <td>0</td>\n",
       "      <td>0</td>\n",
       "      <td>0</td>\n",
       "      <td>1</td>\n",
       "      <td>1</td>\n",
       "      <td>1</td>\n",
       "      <td>0</td>\n",
       "    </tr>\n",
       "  </tbody>\n",
       "</table>\n",
       "</div>"
      ],
      "text/plain": [
       "   in  machine  the  an  amazing  Data  of  subset  learning  current  world  \\\n",
       "0   1        0    1   1        1     1   0       0         0        1      1   \n",
       "1   0        1    0   0        0     0   1       1         2        0      0   \n",
       "\n",
       "   Science  a  is  Deep  career  \n",
       "0        1  0   1     0       1  \n",
       "1        0  1   1     1       0  "
      ]
     },
     "execution_count": 8,
     "metadata": {},
     "output_type": "execute_result"
    }
   ],
   "source": [
    "df = pd.DataFrame([wordDict1,wordDict2])\n",
    "df"
   ]
  },
  {
   "cell_type": "markdown",
   "metadata": {},
   "source": [
    "### TF"
   ]
  },
  {
   "cell_type": "code",
   "execution_count": 9,
   "metadata": {},
   "outputs": [],
   "source": [
    "def Calculate_tf(wordDict,doc):\n",
    "    tfDict = {}\n",
    "    len_corpus = len(doc)\n",
    "    \n",
    "    for word,count in wordDict.items():\n",
    "        tfDict[word] = count/len_corpus\n",
    "    \n",
    "    return tfDict"
   ]
  },
  {
   "cell_type": "code",
   "execution_count": 13,
   "metadata": {},
   "outputs": [],
   "source": [
    "tf1 = Calculate_tf(wordDict1,sen1)\n",
    "tf2 = Calculate_tf(wordDict1,sen2)"
   ]
  },
  {
   "cell_type": "code",
   "execution_count": 14,
   "metadata": {},
   "outputs": [],
   "source": [
    "df1 = pd.DataFrame([tf1,tf2])"
   ]
  },
  {
   "cell_type": "code",
   "execution_count": 15,
   "metadata": {},
   "outputs": [
    {
     "data": {
      "text/html": [
       "<div>\n",
       "<style scoped>\n",
       "    .dataframe tbody tr th:only-of-type {\n",
       "        vertical-align: middle;\n",
       "    }\n",
       "\n",
       "    .dataframe tbody tr th {\n",
       "        vertical-align: top;\n",
       "    }\n",
       "\n",
       "    .dataframe thead th {\n",
       "        text-align: right;\n",
       "    }\n",
       "</style>\n",
       "<table border=\"1\" class=\"dataframe\">\n",
       "  <thead>\n",
       "    <tr style=\"text-align: right;\">\n",
       "      <th></th>\n",
       "      <th>in</th>\n",
       "      <th>machine</th>\n",
       "      <th>the</th>\n",
       "      <th>an</th>\n",
       "      <th>amazing</th>\n",
       "      <th>Data</th>\n",
       "      <th>of</th>\n",
       "      <th>subset</th>\n",
       "      <th>learning</th>\n",
       "      <th>current</th>\n",
       "      <th>world</th>\n",
       "      <th>Science</th>\n",
       "      <th>a</th>\n",
       "      <th>is</th>\n",
       "      <th>Deep</th>\n",
       "      <th>career</th>\n",
       "    </tr>\n",
       "  </thead>\n",
       "  <tbody>\n",
       "    <tr>\n",
       "      <th>0</th>\n",
       "      <td>0.100</td>\n",
       "      <td>0.0</td>\n",
       "      <td>0.100</td>\n",
       "      <td>0.100</td>\n",
       "      <td>0.100</td>\n",
       "      <td>0.100</td>\n",
       "      <td>0.0</td>\n",
       "      <td>0.0</td>\n",
       "      <td>0.0</td>\n",
       "      <td>0.100</td>\n",
       "      <td>0.100</td>\n",
       "      <td>0.100</td>\n",
       "      <td>0.0</td>\n",
       "      <td>0.100</td>\n",
       "      <td>0.0</td>\n",
       "      <td>0.100</td>\n",
       "    </tr>\n",
       "    <tr>\n",
       "      <th>1</th>\n",
       "      <td>0.125</td>\n",
       "      <td>0.0</td>\n",
       "      <td>0.125</td>\n",
       "      <td>0.125</td>\n",
       "      <td>0.125</td>\n",
       "      <td>0.125</td>\n",
       "      <td>0.0</td>\n",
       "      <td>0.0</td>\n",
       "      <td>0.0</td>\n",
       "      <td>0.125</td>\n",
       "      <td>0.125</td>\n",
       "      <td>0.125</td>\n",
       "      <td>0.0</td>\n",
       "      <td>0.125</td>\n",
       "      <td>0.0</td>\n",
       "      <td>0.125</td>\n",
       "    </tr>\n",
       "  </tbody>\n",
       "</table>\n",
       "</div>"
      ],
      "text/plain": [
       "      in  machine    the     an  amazing   Data   of  subset  learning  \\\n",
       "0  0.100      0.0  0.100  0.100    0.100  0.100  0.0     0.0       0.0   \n",
       "1  0.125      0.0  0.125  0.125    0.125  0.125  0.0     0.0       0.0   \n",
       "\n",
       "   current  world  Science    a     is  Deep  career  \n",
       "0    0.100  0.100    0.100  0.0  0.100   0.0   0.100  \n",
       "1    0.125  0.125    0.125  0.0  0.125   0.0   0.125  "
      ]
     },
     "execution_count": 15,
     "metadata": {},
     "output_type": "execute_result"
    }
   ],
   "source": [
    "df1"
   ]
  },
  {
   "cell_type": "markdown",
   "metadata": {},
   "source": [
    "#### Remove Stopwords"
   ]
  },
  {
   "cell_type": "code",
   "execution_count": 17,
   "metadata": {},
   "outputs": [],
   "source": [
    "from nltk.corpus import stopwords\n",
    "import nltk\n",
    "sw = stopwords.words(\"english\")"
   ]
  },
  {
   "cell_type": "code",
   "execution_count": 19,
   "metadata": {},
   "outputs": [],
   "source": [
    "f1 = [word for word in wordDict1 if not word in sw]\n",
    "f2 = [word for word in wordDict2 if not word in sw]"
   ]
  },
  {
   "cell_type": "code",
   "execution_count": 20,
   "metadata": {},
   "outputs": [
    {
     "data": {
      "text/plain": [
       "['machine',\n",
       " 'amazing',\n",
       " 'Data',\n",
       " 'subset',\n",
       " 'learning',\n",
       " 'current',\n",
       " 'world',\n",
       " 'Science',\n",
       " 'Deep',\n",
       " 'career']"
      ]
     },
     "execution_count": 20,
     "metadata": {},
     "output_type": "execute_result"
    }
   ],
   "source": [
    "f1"
   ]
  }
 ],
 "metadata": {
  "kernelspec": {
   "display_name": "ai_env",
   "language": "python",
   "name": "python3"
  },
  "language_info": {
   "codemirror_mode": {
    "name": "ipython",
    "version": 3
   },
   "file_extension": ".py",
   "mimetype": "text/x-python",
   "name": "python",
   "nbconvert_exporter": "python",
   "pygments_lexer": "ipython3",
   "version": "3.10.12"
  }
 },
 "nbformat": 4,
 "nbformat_minor": 2
}
